{
 "cells": [
  {
   "cell_type": "code",
   "execution_count": 1,
   "id": "0fbb2d27-37c8-46fa-a8f2-245384b28c55",
   "metadata": {},
   "outputs": [],
   "source": [
    "import requests\n",
    "from bs4 import BeautifulSoup\n",
    "from selenium import webdriver\n",
    "from selenium.webdriver.chrome.service import Service\n",
    "from webdriver_manager.chrome import ChromeDriverManager\n",
    "import time\n",
    "\n",
    "# Define headers to mimic a real browser request\n",
    "headers = {\n",
    "    \"User-Agent\": \"Mozilla/5.0 (Windows NT 10.0; Win64; x64) AppleWebKit/537.36 (KHTML, like Gecko) Chrome/117.0.0.0 Safari/537.36\"\n",
    "}\n",
    "\n",
    "# A class to represent a Webpage\n",
    "class Website:\n",
    "\n",
    "    def __init__(self, url):\n",
    "        \"\"\"\n",
    "        This class creates a website object from the given URL using BeautifulSoup or Selenium depending on the content type\n",
    "        \"\"\"\n",
    "        self.url = url\n",
    "        # Check if the page is dynamic or static\n",
    "        if self.is_dynamic_page(url):\n",
    "            self.text = self.get_dynamic_content(url)\n",
    "        else:\n",
    "            self.text = self.get_static_content(url)\n",
    "        self.title = self.get_title()\n",
    "\n",
    "    def get_title(self):\n",
    "        \"\"\"\n",
    "        Fetches the title of the page\n",
    "        \"\"\"\n",
    "        return self.soup.title.string if self.soup.title else \"No title found\"\n",
    "\n",
    "    def get_static_content(self, url):\n",
    "        \"\"\"\n",
    "        Fetches static content from the page using requests and BeautifulSoup\n",
    "        \"\"\"\n",
    "        response = requests.get(url, headers=headers)\n",
    "        self.soup = BeautifulSoup(response.content, 'html.parser')\n",
    "        # Remove irrelevant tags like script, style, img, and input\n",
    "        for irrelevant in self.soup.body([\"script\", \"style\", \"img\", \"input\"]):\n",
    "            irrelevant.decompose()\n",
    "        return self.soup.body.get_text(separator=\"\\n\", strip=True)\n",
    "\n",
    "    def get_dynamic_content(self, url):\n",
    "        \"\"\"\n",
    "        Fetches dynamic content from the page using Selenium\n",
    "        \"\"\"\n",
    "        driver = webdriver.Chrome(service=Service(ChromeDriverManager().install()))\n",
    "        driver.get(url)\n",
    "        time.sleep(3)  # Wait for JavaScript to load the content\n",
    "        # Get the page source after the JavaScript has been executed\n",
    "        self.soup = BeautifulSoup(driver.page_source, 'html.parser')\n",
    "        driver.quit()  # Close the browser\n",
    "        # Remove irrelevant tags like script, style, img, and input\n",
    "        for irrelevant in self.soup.body([\"script\", \"style\", \"img\", \"input\"]):\n",
    "            irrelevant.decompose()\n",
    "        return self.soup.body.get_text(separator=\"\\n\", strip=True)\n",
    "\n",
    "    def is_dynamic_page(self, url):\n",
    "        \"\"\"\n",
    "        A helper function to determine if the page is dynamic or static (based on URL pattern or other logic)\n",
    "        \"\"\"\n",
    "        # For simplicity, we're assuming pages with 'javascript' in the URL are dynamic (this can be improved)\n",
    "        return \"javascript\" in url or \"dynamic\" in url"
   ]
  },
  {
   "cell_type": "code",
   "execution_count": 11,
   "id": "05cd258f-4212-4ea8-acab-0c16e83997ba",
   "metadata": {},
   "outputs": [],
   "source": [
    "OLLAMA_API = \"http://localhost:11434/api/chat\"\n",
    "HEADERS = {\"Content-Type\": \"application/json\"}\n",
    "MODEL = \"llama3.2\""
   ]
  },
  {
   "cell_type": "code",
   "execution_count": null,
   "id": "0bb23a28-8d29-480b-b282-98c256b41f74",
   "metadata": {},
   "outputs": [],
   "source": [
    "!ollama pull llama3"
   ]
  },
  {
   "cell_type": "code",
   "execution_count": 13,
   "id": "7b76c030-7d81-47aa-bbd5-79ece499d857",
   "metadata": {},
   "outputs": [],
   "source": [
    "import ollama  # Ollama ile Llama 3 kullanımı için\n",
    "def summarize_with_llama3(text):\n",
    "    \"\"\"\n",
    "    Uses Llama 3 to summarize the given text via Ollama.\n",
    "    \"\"\"\n",
    "    prompt = f\"Summarize the following website content:\\n\\n{text}\"\n",
    "    \n",
    "    response = ollama.chat(model=\"llama3\", messages=[{\"role\": \"user\", \"content\": prompt}])\n",
    "    return response['message']['content']"
   ]
  },
  {
   "cell_type": "code",
   "execution_count": 14,
   "id": "01e63bc6-2669-43c4-9f01-4823bbbd05d3",
   "metadata": {},
   "outputs": [
    {
     "name": "stdout",
     "output_type": "stream",
     "text": [
      "\n",
      "📰 Website Summary:\n",
      "\n",
      "The article reports on a change in tone from US President Trump towards Russian President Putin, who was previously not criticized by Trump. The Russian president had suggested an interim government in Ukraine, which could replace Ukrainian President Volodymyr Zelensky. Trump expressed anger and frustration with Putin's move, saying he is \"pissed off\" and threatening to impose a 50% tariff on countries buying Russian oil if Putin does not agree to a ceasefire.\n",
      "\n",
      "Russia's spokesperson, Dmitry Peskov, attempted to downplay the tensions between the two leaders, stating that Russia continues to work with the US side and that there are no plans for a call between Putin and Trump this week. However, Peskov left open the possibility of a call if necessary.\n",
      "\n",
      "The article also mentions that US and Russian officials have been in talks for several weeks to try to reach a deal to end the war in Ukraine, but Trump's criticism of Putin marks a change in tone towards the Russian president.\n"
     ]
    }
   ],
   "source": [
    "url = \"https://www.bbc.com/news/articles/czd31157m31o\"  \n",
    "\n",
    "website = Website(url)\n",
    "summary = summarize_with_llama3(website.text)\n",
    "\n",
    "print(\"\\n📰 Website Summary:\\n\")\n",
    "print(summary)"
   ]
  }
 ],
 "metadata": {
  "kernelspec": {
   "display_name": "Python 3 (ipykernel)",
   "language": "python",
   "name": "python3"
  },
  "language_info": {
   "codemirror_mode": {
    "name": "ipython",
    "version": 3
   },
   "file_extension": ".py",
   "mimetype": "text/x-python",
   "name": "python",
   "nbconvert_exporter": "python",
   "pygments_lexer": "ipython3",
   "version": "3.11.11"
  }
 },
 "nbformat": 4,
 "nbformat_minor": 5
}
